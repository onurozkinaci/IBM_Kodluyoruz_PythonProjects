{
 "cells": [
  {
   "cell_type": "code",
   "execution_count": 5,
   "id": "f5f8bdd7-f33c-48b3-88f5-60e34db3c84c",
   "metadata": {},
   "outputs": [],
   "source": [
    "points = [(1,5),(2,9),(3,8),(4,9),(6,10),(7,12)]\n",
    "distances = []"
   ]
  },
  {
   "cell_type": "code",
   "execution_count": 6,
   "id": "3132b900-60a9-4726-bc98-2caa83518e9c",
   "metadata": {},
   "outputs": [],
   "source": [
    "def euclideanDistance(crd1,crd2):\n",
    "    return pow(pow(crd1[0]-crd2[0],2) + pow(crd1[1]-crd2[1],2),0.5)"
   ]
  },
  {
   "cell_type": "code",
   "execution_count": 7,
   "id": "cb69e089-3c78-481a-81ad-865d948610a0",
   "metadata": {},
   "outputs": [
    {
     "name": "stdout",
     "output_type": "stream",
     "text": [
      "1.4142135623730951\n"
     ]
    }
   ],
   "source": [
    "for i in range(len(points) - 1):\n",
    "    for j in range(i+1, len(points)):\n",
    "        distances.append(euclideanDistance(points[i], points[j]))\n",
    "print(min(distances))"
   ]
  },
  {
   "cell_type": "code",
   "execution_count": null,
   "id": "178b9776-bab6-46d6-807c-d517ec5bfd9a",
   "metadata": {},
   "outputs": [],
   "source": []
  }
 ],
 "metadata": {
  "kernelspec": {
   "display_name": "Python 3 (ipykernel)",
   "language": "python",
   "name": "python3"
  },
  "language_info": {
   "codemirror_mode": {
    "name": "ipython",
    "version": 3
   },
   "file_extension": ".py",
   "mimetype": "text/x-python",
   "name": "python",
   "nbconvert_exporter": "python",
   "pygments_lexer": "ipython3",
   "version": "3.12.3"
  }
 },
 "nbformat": 4,
 "nbformat_minor": 5
}
